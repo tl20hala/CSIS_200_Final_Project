{
 "cells": [
  {
   "cell_type": "markdown",
   "metadata": {},
   "source": [
    "# Final project\n",
    "\n",
    "**Can you escape a velociraptor?**\n",
    "\n",
    "Your goal is to figure out whether or not a velociraptor will catch you or if you can outrun it!\n",
    "\n",
    "## Problem 1. Position vs. time\n",
    "\n",
    "Suppose a velociraptor can run 18 m/s. And suppose you can run at 3 m/s, but you have a 30 meter head start. Assume that you and the 'raptor accelerate so quickly that you can ignore acceleration. \n",
    "\n",
    "Make a plot of the position vs. time for both you and the 'raptor (plot both on the same figure). Clearly label all axes and give the plot a legend. Plot over a suitable time frame. Save the figure as a .png file. \n",
    "\n",
    "*This plot will be included in your write-up*."
   ]
  },
  {
   "cell_type": "code",
   "execution_count": 1,
   "metadata": {
    "collapsed": false,
    "scrolled": true
   },
   "outputs": [
    {
     "data": {
      "image/png": "[encoded data removed]",
      "text/plain": [
       "<matplotlib.figure.Figure at 0x3ca9630>"
      ]
     },
     "metadata": {},
     "output_type": "display_data"
    }
   ],
   "source": [
    "# Your code here. \n",
    "import matplotlib.pylab as plt\n",
    "%matplotlib inline\n",
    "import numpy as np\n",
    "\n",
    "#Add a title\n",
    "plt.title(\"Position v Time of Humans & Raptors\")\n",
    "\n",
    "# Add labels with a bigger font than the default.\n",
    "plt.xlabel('Time (s)',fontsize=18)\n",
    "plt.ylabel('Position (m)',fontsize=18)\n",
    "\n",
    "time= [] #makes empty list of times\n",
    "for i in range(0,500):\n",
    "    z= i/100.0\n",
    "    time.append(z)\n",
    "# Makes more time data to be analyzed, and makes the result more accurate\n",
    "\n",
    "#Human Data\n",
    "vo= 3 #m/s\n",
    "position=[]\n",
    "for i in time:\n",
    "    w= (3 * i) + 30\n",
    "    position.append(w)\n",
    "plt.plot(time,position, markersize=5,label='Human')    \n",
    "#\n",
    "\n",
    "#Velociraptor Data\n",
    "vo_r= 18 #m/s\n",
    "position_r=[]\n",
    "for i in time:\n",
    "    q= 18*i\n",
    "    position_r.append(q)\n",
    "plt.plot(time,position_r, markersize=5,label='Velociraptor')\n",
    "\n",
    "#Legend\n",
    "plt.legend(loc='upper left')\n",
    "\n",
    "plt.savefig('final_graph_1')"
   ]
  },
  {
   "cell_type": "markdown",
   "metadata": {},
   "source": [
    "## Problem 2. When does the 'raptor catch up to you?\n",
    "\n",
    "Use your code to figure out when the raptor catches up to you. Both how much time has passed and how far *you* have run.  \n",
    "\n",
    "Do not just get this information off the graph. Use your Python code to figure this out! Getting the information just by looking at the plot will result in a 0 for this question. You can use an analytic approach (algebra) to check your answer, but that is not the approach I want you to use. Depending on how you write your code, you might not get an *exact* answer, but you should find a way to get pretty close to the algebraic solution. "
   ]
  },
  {
   "cell_type": "code",
   "execution_count": 2,
   "metadata": {
    "collapsed": false
   },
   "outputs": [
    {
     "name": "stdout",
     "output_type": "stream",
     "text": [
      "The human distance traveled when the raptor catches up is 36 meters, referencing the starting point of the raptor (excluding the head start).  \n",
      "The amount of time passed when the catch-up occurs is 2 seconds.\n"
     ]
    }
   ],
   "source": [
    "# Your code here.\n",
    "def catch_up(position, position_r, t):\n",
    "    for i in range(0, 500):\n",
    "        if position_r[i] == position[i]:\n",
    "            return t[i], position_r[i]\n",
    "t, d= catch_up(position, position_r, time)\n",
    "print \"The human distance traveled when the raptor catches up is %d meters, referencing the starting point of the raptor (excluding the head start).  \" %d \n",
    "print \"The amount of time passed when the catch-up occurs is %d seconds.\" %t"
   ]
  },
  {
   "cell_type": "markdown",
   "metadata": {},
   "source": [
    "## Problem 3. When is it close enough to strike?\n",
    "\n",
    "It turns out the 'raptor will start trying to attack when it is 1 meter away. How much time has passed and how far have you run when it is 1 meter behind you? Use a similar approach as the last problem. \n",
    "\n",
    "***Also make a new copy of the above plot, but label (with a line or arrow or whatever you want) the point at which the raptor is 1 meter behind you.***"
   ]
  },
  {
   "cell_type": "code",
   "execution_count": 3,
   "metadata": {
    "collapsed": false
   },
   "outputs": [
    {
     "name": "stdout",
     "output_type": "stream",
     "text": [
      "The human distance traveled when the raptor is 1 meter away is 34.920000 meters.\n",
      "The amount of time passed when the raptor is 1 meter away is 1.940000 seconds.\n"
     ]
    },
    {
     "data": {
      "text/plain": [
       "<matplotlib.patches.FancyArrow at 0xa7f5f98>"
      ]
     },
     "execution_count": 3,
     "metadata": {},
     "output_type": "execute_result"
    },
    {
     "data": {
      "image/png": "[encoded data removed]",
      "text/plain": [
       "<matplotlib.figure.Figure at 0x3ca9208>"
      ]
     },
     "metadata": {},
     "output_type": "display_data"
    }
   ],
   "source": [
    "# Your code here. \n",
    "\n",
    "def attempted_bite(position, position_r, t1):\n",
    "    for i in range(0,500):\n",
    "        if position[i] - position_r[i] < 1:\n",
    "            return t1[i], position_r[i]\n",
    "t1, d1= attempted_bite(position, position_r, time)\n",
    "print \"The human distance traveled when the raptor is 1 meter away is %f meters.\" %d1\n",
    "print \"The amount of time passed when the raptor is 1 meter away is %f seconds.\" %t1\n",
    "\n",
    "#COPY OF GRAPH W/ ARROW\n",
    "plt.plot(time,position,label=\"Human\")\n",
    "plt.plot(time,position_r,label=\"Velociraptor\")\n",
    "\n",
    "#Axis Labels\n",
    "plt.xlabel('Time (s)')\n",
    "plt.ylabel('Position (m)')\n",
    "\n",
    "#Title\n",
    "plt.title(\"Position vs. Time\")\n",
    "\n",
    "#Make a legend\n",
    "plt.legend(loc='upper left')\n",
    "\n",
    "#Putting the arrow on the graph\n",
    "plt.arrow(1.94, 50, 0.0, -10.0, head_width=0.12, head_length=4, fc='purple', ec='purple')\n"
   ]
  },
  {
   "cell_type": "markdown",
   "metadata": {},
   "source": [
    "## Problem 4. Will it bite you?\n",
    "\n",
    "When the 'raptor is 1 meter away, it will try to bite you. If it doesn't bite you, it will try a second and (if necessary) a third time. If it doesn't get you on the third try, it will grow frustrated and stop chasing you. Hurray!\n",
    "\n",
    "Suppose the first time it tries, there is a 20% chance it will bite you. If it misses and it needs to try a second time, there is only a 15% chance, and if it misses *that* time, there is only a 7% chance on the third try. \n",
    "\n",
    "If it bites you once, you're 'raptor food. If it misses all three times, you get away!\n",
    "\n",
    "What is the probability that you will get away?\n"
   ]
  },
  {
   "cell_type": "code",
   "execution_count": 4,
   "metadata": {
    "collapsed": false
   },
   "outputs": [],
   "source": [
    "# Your code here\n",
    "def survive():\n",
    "    attempt1= np.random.randint(100)\n",
    "    attempt2= np.random.randint(100)\n",
    "    attempt3= np.random.randint(100)\n",
    "    #Sample test of random trials of the velociraptor trying to bite the human.\n",
    "    \n",
    "#Bite attempt #1 \n",
    "    if attempt1 <= 20:   #20% chance of getting bit the first try\n",
    "        return \"Bit\"\n",
    "#Bite attempt #2    \n",
    "    elif attempt2 <= 15:    #15% chance of getting bit the second try\n",
    "        return \"Bit\"\n",
    "#Bite attempt #3    \n",
    "    elif attempt3 <= 7:   #7% chance of getting bit the third try\n",
    "        return \"Bit\"\n",
    "    else:\n",
    "        return \"Missed\""
   ]
  },
  {
   "cell_type": "code",
   "execution_count": 5,
   "metadata": {
    "collapsed": false
   },
   "outputs": [
    {
     "name": "stdout",
     "output_type": "stream",
     "text": [
      "The probability the human will escape the velociraptor is 61.00. %\n"
     ]
    }
   ],
   "source": [
    "#Making empty lists for results of trials\n",
    "Deaths= 0\n",
    "Escapes= 0\n",
    "\n",
    "for i in range(0,1000):\n",
    "    i +=1 #going through the list of trials one by one\n",
    "    \n",
    "    t= survive()\n",
    "    \n",
    "    if t == \"Bit\":\n",
    "        Deaths += 1    #if the results show the velociraptor bit the human, this result goes into the list of deaths in trial\n",
    "    elif t == \"Missed\":\n",
    "        Escapes += 1  #if the results show the velociraptor did not bite the human, this result goes into the list of escapes\n",
    "        \n",
    "outrunning_raptor_chance= (Escapes/(float(1000))) * 100 #Makes percent chance of surviving by dividing successes from all\n",
    "                                                                #the data and multiplying by 100 to make a proper percent.\n",
    "\n",
    "print \"The probability the human will escape the velociraptor is %0.2f.\" %round(outrunning_raptor_chance),\"%\"\n",
    "    "
   ]
  },
  {
   "cell_type": "code",
   "execution_count": 6,
   "metadata": {
    "collapsed": true
   },
   "outputs": [],
   "source": [
    "#Worked with Sandy, Santana, Fred, Nico, Maddy, Jackie, Kristin, and Dan"
   ]
  }
 ],
 "metadata": {
  "kernelspec": {
   "display_name": "Python 2",
   "language": "python",
   "name": "python2"
  },
  "language_info": {
   "codemirror_mode": {
    "name": "ipython",
    "version": 2
   },
   "file_extension": ".py",
   "mimetype": "text/x-python",
   "name": "python",
   "nbconvert_exporter": "python",
   "pygments_lexer": "ipython2",
   "version": "2.7.10"
  }
 },
 "nbformat": 4,
 "nbformat_minor": 0
}
